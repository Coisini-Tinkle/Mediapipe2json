{
 "cells": [
  {
   "cell_type": "code",
   "execution_count": null,
   "metadata": {
    "ExecuteTime": {
     "end_time": "2023-08-03T04:33:34.542095200Z",
     "start_time": "2023-08-03T04:33:34.533437700Z"
    }
   },
   "outputs": [],
   "source": [
    "from utils import *\n",
    "import os\n",
    "# from tqdm import tqdm\n",
    "from tqdm import tqdm_notebook as tqdm"
   ]
  },
  {
   "cell_type": "markdown",
   "metadata": {},
   "source": [
    "这个是给整个项目一个接口，以便于使用者调用。\n",
    "\n",
    "备注：由于整个demo文件是使用VS code编辑而成，使用pycharm打开时，可能需要更改demo文件中import的路径，和__init__.py文件中的导入路径。\n",
    "\n",
    "例如：\n",
    "'''from .utils import mediaPipe_result2json,json_visualize'''"
   ]
  },
  {
   "cell_type": "code",
   "execution_count": null,
   "metadata": {
    "ExecuteTime": {
     "end_time": "2023-08-03T04:32:07.206043100Z",
     "start_time": "2023-08-03T04:32:07.189088600Z"
    }
   },
   "outputs": [],
   "source": [
    "img_file_folder=r\"data/image/\"# input img folder\n",
    "mediapipe_json_file_folder=r\"mediapipe/original_json_output/\" # the folder to save mediapipe results\n",
    "visualize_result_folder=r\"visualize/\"# the folder to save visulized img\n",
    "original_labelme_json_folder=r\"labelme/oringinal_labelme_json/\"#the labelme result\n",
    "converted_labelme_json_folder=r\"labelme/conveted_labelme_json/\"#the folder to save converted json file from labelme result\n",
    "img_list=os.listdir(img_file_folder)\n",
    "mediapipe_json_list=os.listdir(mediapipe_json_file_folder)\n",
    "orinial_labelme_json_list=os.listdir(original_labelme_json_folder)\n",
    "converted_labelme_json_list=os.listdir(converted_labelme_json_folder)"
   ]
  },
  {
   "cell_type": "code",
   "execution_count": null,
   "metadata": {
    "collapsed": false
   },
   "outputs": [],
   "source": [
    "# mediapipe result转json代码\n",
    "index=1\n",
    "print(f\"存储位置：{mediapipe_json_file_folder}\")\n",
    "for img in tqdm(img_list):\n",
    "    mediaPipe_result2json(image_file=img_file_folder+img,\n",
    "                          json_folder=mediapipe_json_file_folder,\n",
    "                          image_id=index)\n",
    "    index+=1"
   ]
  },
  {
   "cell_type": "code",
   "execution_count": null,
   "metadata": {},
   "outputs": [],
   "source": [
    "# labelme转json代码\n",
    "print(f\"存储位置：{converted_labelme_json_folder}\")\n",
    "for j in tqdm(orinial_labelme_json_list):\n",
    "    index=int(j.split('.',2)[0])\n",
    "    print(index)\n",
    "    labelme2owndata(\n",
    "        labelme_json_file=original_labelme_json_folder+j,\n",
    "        output_json_folder=converted_labelme_json_folder,\n",
    "        index=index\n",
    "        )"
   ]
  },
  {
   "cell_type": "code",
   "execution_count": null,
   "metadata": {
    "ExecuteTime": {
     "end_time": "2023-08-03T04:37:26.927361500Z",
     "start_time": "2023-08-03T04:33:51.260692500Z"
    },
    "collapsed": false
   },
   "outputs": [],
   "source": [
    "# 可视化代码\n",
    "index=1\n",
    "for img,json in tqdm(zip(img_list,mediapipe_json_list)):\n",
    "    json_visualize2(\n",
    "        file=json_file_folder+json,\n",
    "        image_file=img_file_folder+img,\n",
    "        image_output_folder=visualize_result_folder,\n",
    "        image_id=index\n",
    "        )\n",
    "    index+=1"
   ]
  },
  {
   "cell_type": "code",
   "execution_count": null,
   "metadata": {
    "collapsed": false
   },
   "outputs": [],
   "source": [
    "# 可视化代码\n",
    "index=1\n",
    "dataset_json_list=os.listdir(\"dataset/\")\n",
    "for img,json in tqdm(zip(img_list,dataset_json_list)):\n",
    "    json_visualize2(\n",
    "        file=\"dataset/\"+json,\n",
    "        image_file=img_file_folder+img,\n",
    "        image_output_folder=visualize_result_folder,\n",
    "        image_id=index)\n",
    "    index+=1"
   ]
  },
  {
   "cell_type": "code",
   "execution_count": null,
   "metadata": {},
   "outputs": [],
   "source": []
  }
 ],
 "metadata": {
  "kernelspec": {
   "display_name": "mediapipe",
   "language": "python",
   "name": "python3"
  },
  "language_info": {
   "codemirror_mode": {
    "name": "ipython",
    "version": 3
   },
   "file_extension": ".py",
   "mimetype": "text/x-python",
   "name": "python",
   "nbconvert_exporter": "python",
   "pygments_lexer": "ipython3",
   "version": "3.10.12"
  },
  "orig_nbformat": 4
 },
 "nbformat": 4,
 "nbformat_minor": 2
}
