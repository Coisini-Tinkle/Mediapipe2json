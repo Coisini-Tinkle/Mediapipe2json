{
 "cells": [
  {
   "cell_type": "code",
   "execution_count": 4,
   "metadata": {},
   "outputs": [
    {
     "name": "stderr",
     "output_type": "stream",
     "text": [
      "C:\\Users\\ZhangYao\\AppData\\Local\\Temp\\ipykernel_19476\\624058415.py:11: TqdmDeprecationWarning: This function will be removed in tqdm==5.0.0\n",
      "Please use `tqdm.notebook.tqdm` instead of `tqdm.tqdm_notebook`\n",
      "  for img,json in tqdm(zip(imag_folder_list,json_folder_list)):\n"
     ]
    },
    {
     "data": {
      "application/vnd.jupyter.widget-view+json": {
       "model_id": "e735fdd3a35849fb9ede926715dcfdcf",
       "version_major": 2,
       "version_minor": 0
      },
      "text/plain": [
       "0it [00:00, ?it/s]"
      ]
     },
     "metadata": {},
     "output_type": "display_data"
    },
    {
     "name": "stdout",
     "output_type": "stream",
     "text": [
      "11\n",
      "A image file has been created!\n",
      "12\n",
      "A image file has been created!\n",
      "13\n",
      "A image file has been created!\n",
      "14\n",
      "A image file has been created!\n",
      "15\n",
      "A image file has been created!\n",
      "16\n",
      "A image file has been created!\n",
      "17\n",
      "A image file has been created!\n",
      "18\n",
      "A image file has been created!\n",
      "19\n",
      "A image file has been created!\n",
      "20\n",
      "A image file has been created!\n"
     ]
    }
   ],
   "source": [
    "import os\n",
    "from utils import *\n",
    "from tqdm import tqdm_notebook as tqdm\n",
    "\n",
    "json_folder=r\"C:/Users/ZhangYao/Desktop/testjson/\"#json文件夹路径，必须以‘/’结尾\n",
    "img_folder=r\"C:/Users/ZhangYao/Desktop/testimg/\"#图片文件夹路径，必须以‘/’结尾\n",
    "out_img_folder=r\"C:/Users/ZhangYao/Desktop/testoutput/\"#输出图片文件夹路径，必须以‘/’结尾\n",
    "json_folder_list=os.listdir(json_folder)\n",
    "imag_folder_list=os.listdir(img_folder)\n",
    "\n",
    "for img,json in tqdm(zip(imag_folder_list,json_folder_list)):\n",
    "    index=int(json.split('.')[0])\n",
    "    print(index)\n",
    "    json_visualize2(\n",
    "        file=json_folder+json,\n",
    "        image_file=img_folder+img,\n",
    "        image_output_folder=out_img_folder,\n",
    "        image_id=index)"
   ]
  },
  {
   "cell_type": "code",
   "execution_count": null,
   "metadata": {},
   "outputs": [],
   "source": []
  }
 ],
 "metadata": {
  "kernelspec": {
   "display_name": "mediapipe",
   "language": "python",
   "name": "python3"
  },
  "language_info": {
   "codemirror_mode": {
    "name": "ipython",
    "version": 3
   },
   "file_extension": ".py",
   "mimetype": "text/x-python",
   "name": "python",
   "nbconvert_exporter": "python",
   "pygments_lexer": "ipython3",
   "version": "3.10.12"
  },
  "orig_nbformat": 4
 },
 "nbformat": 4,
 "nbformat_minor": 2
}
